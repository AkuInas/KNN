{
 "cells": [
  {
   "cell_type": "code",
   "execution_count": 1,
   "metadata": {
    "id": "6fP1Uxmj3mbm"
   },
   "outputs": [],
   "source": [
    "import pandas as pd\n",
    "import re\n",
    "import numpy as np\n",
    "import scipy\n",
    "import itertools\n",
    "import matplotlib\n",
    "import matplotlib.pyplot as plt\n",
    "import warnings\n",
    "warnings.filterwarnings('ignore')\n",
    "from scipy.spatial.distance import cdist\n",
    "from collections import Counter\n",
    "from random import choice"
   ]
  },
  {
   "cell_type": "code",
   "execution_count": 2,
   "metadata": {
    "id": "pBl3s5o9M68T"
   },
   "outputs": [
    {
     "name": "stdout",
     "output_type": "stream",
     "text": [
      "Jumlah data training: 314\n",
      "Jumlah data testing: 135\n"
     ]
    }
   ],
   "source": [
    "from sklearn.model_selection import train_test_split\n",
    "df = pd.read_csv('LGBT_labelling.csv')\n",
    "\n",
    "training_data = df.sample(frac=0.7, random_state=1)\n",
    "testing_data = df.drop(training_data.index)\n",
    "\n",
    "print(f\"Jumlah data training: {training_data.shape[0]}\")\n",
    "print(f\"Jumlah data testing: {testing_data.shape[0]}\")"
   ]
  },
  {
   "cell_type": "code",
   "execution_count": 3,
   "metadata": {},
   "outputs": [
    {
     "name": "stdout",
     "output_type": "stream",
     "text": [
      "Unique words in Training Data: 1106\n",
      "Unique words in Test Data: 648\n"
     ]
    }
   ],
   "source": [
    "# Training Data\n",
    "train_unique = (list(set(training_data['tweet'].str.findall(\"\\w+\").sum()))) # Temukan semua kata unik di kolom Tweet data training\n",
    "train_unique_words = len(train_unique)\n",
    "\n",
    "# Testing Data\n",
    "test_unique = (list(set(testing_data['tweet'].str.findall(\"\\w+\").sum()))) # Temukan semua kata unik di kolom Tweet data testing\n",
    "test_unique_words = len(test_unique)\n",
    "\n",
    "print(\"Unique words in Training Data: {}\".format(train_unique_words))\n",
    "print(\"Unique words in Test Data: {}\".format(test_unique_words))"
   ]
  },
  {
   "cell_type": "code",
   "execution_count": 4,
   "metadata": {
    "id": "_qQJ6IQCtAj-"
   },
   "outputs": [],
   "source": [
    "# Training Data\n",
    "train_matrix = [] # Membentuk matriks 2D untuk menyimpan semua vektor training_feature\n",
    "\n",
    "# Test Data\n",
    "test_matrix = [] # Membentuk matriks 2D untuk menyimpan semua vektor testing_feature"
   ]
  },
  {
   "cell_type": "code",
   "execution_count": 5,
   "metadata": {
    "id": "HRLHJW7ZNZpM"
   },
   "outputs": [],
   "source": [
    "# Data Training : Mengekstrak feature dan menyimpannya ke dalam matriks training_feature\n",
    "for sentence in training_data['tweet']:\n",
    "    train_featurevec = []\n",
    "    word = sentence.split()\n",
    "    for w in train_unique:\n",
    "        train_featurevec.append(word.count(w))\n",
    "    train_matrix.append(train_featurevec)\n",
    "\n",
    "# Data Testing : Mengekstrak feature dan menyimpannya ke dalam matriks testing_feature\n",
    "for sentence in testing_data['tweet']:\n",
    "    test_featurevec = []\n",
    "    word = sentence.split()\n",
    "    for w in train_unique:\n",
    "        test_featurevec.append(word.count(w))\n",
    "    test_matrix.append(test_featurevec)"
   ]
  },
  {
   "cell_type": "code",
   "execution_count": 6,
   "metadata": {
    "colab": {
     "base_uri": "https://localhost:8080/",
     "height": 50
    },
    "id": "BtKYwzDD9jZ3",
    "outputId": "4ca295b0-6f8f-4423-c2f0-0f9ac6c49d58"
   },
   "outputs": [
    {
     "name": "stdout",
     "output_type": "stream",
     "text": [
      "Shape of Training Matrix: (314 , 1106)\n",
      "Shape of Test Matrix: (135 , 1106)\n"
     ]
    }
   ],
   "source": [
    "print(\"Shape of Training Matrix: ({0} , {1})\".format(len(train_matrix),len(train_matrix[0])))\n",
    "print(\"Shape of Test Matrix: ({0} , {1})\".format(len(test_matrix),len(test_matrix[0])))"
   ]
  },
  {
   "cell_type": "code",
   "execution_count": 7,
   "metadata": {
    "id": "fO9izZefAPD8"
   },
   "outputs": [],
   "source": [
    "# Menghitung jarak antara setiap instance testing dengan semua instance training. Mengembalikan vektor jarak 2D.\n",
    "dists = cdist(test_matrix,train_matrix,'euclidean') "
   ]
  },
  {
   "cell_type": "code",
   "execution_count": 8,
   "metadata": {
    "colab": {
     "base_uri": "https://localhost:8080/",
     "height": 34
    },
    "id": "Qw5NEh6VGBjn",
    "outputId": "245ca12a-e570-4909-c6b7-109227a7d9e0"
   },
   "outputs": [
    {
     "data": {
      "text/plain": [
       "(135, 314)"
      ]
     },
     "execution_count": 8,
     "metadata": {},
     "output_type": "execute_result"
    }
   ],
   "source": [
    "# Membuat kolom kosong pada data testing untuk Predicted Label.\n",
    "testing_data['Predicted Label'] = ''\n",
    "dists.shape"
   ]
  },
  {
   "cell_type": "code",
   "execution_count": 9,
   "metadata": {
    "id": "5UZ8pALRYNIo"
   },
   "outputs": [],
   "source": [
    "#Fungsi yang mengambil list dan mengembalikan mode dari list. Jika ada lebih dari satu mode, secara acak akan memilih salah satu.\n",
    "def get_mode(l):\n",
    "    counting = Counter(l)\n",
    "    max_count = max(counting.values())\n",
    "    return choice([ks for ks in counting if counting[ks] == max_count])\n"
   ]
  },
  {
   "cell_type": "markdown",
   "metadata": {
    "id": "_bfv5BQrdpyx"
   },
   "source": [
    "## **K Nearest Neighbors & Performance Measures**"
   ]
  },
  {
   "cell_type": "code",
   "execution_count": 10,
   "metadata": {
    "id": "B3ALMn4VJ2N4"
   },
   "outputs": [],
   "source": [
    "from sklearn.preprocessing import StandardScaler\n",
    "from sklearn.neighbors import KNeighborsClassifier\n",
    "from sklearn import metrics\n",
    "from sklearn.metrics import classification_report, confusion_matrix\n",
    "\n",
    "# Membuat struktur umum matriks dari confusion matrix\n",
    "cmatrix = pd.DataFrame({'Positif': '', 'Negatif': ''},\n",
    "                       index = ['Prediksi Positif', 'Prediksi Negatif'])\n",
    "\n",
    "#Initializing lists to be used in plotting later.\n",
    "acc_list = []\n",
    "rec_list = []\n",
    "prec_list = []\n",
    "f1_list = []"
   ]
  },
  {
   "cell_type": "code",
   "execution_count": 11,
   "metadata": {
    "id": "QhzrOl3fhtFM"
   },
   "outputs": [],
   "source": [
    "def classifying(trainfeatures,testfeatures):\n",
    "\n",
    "  X_train = trainfeatures #train_matrix - 2D feature vector\n",
    "  X_test = testfeatures #test_matrix - 2D feature vector\n",
    "  y_train = training_data.iloc[:,0].values #trained['label']\n",
    "  y_test = testing_data.iloc[:,0].values #test['label']\n",
    "\n",
    "  for k in [1,3,5,7,10,13,15,17,20]:\n",
    "\n",
    "    classifier = KNeighborsClassifier(n_neighbors=k,algorithm='brute') #Using brute-force algorithm for quicker computation.\n",
    "    classifier.fit(X_train, y_train) #Fitting the built-in sklearn classifier on our training data\n",
    "    predicted_label = classifier.predict(X_test) #Making the classifier to predict on the previously unseen test data.\n",
    "\n",
    "    accuracy_score = (metrics.accuracy_score(y_test,predicted_label))\n",
    "    accuracy_score = (round(accuracy_score,2))*100\n",
    "    acc_list.append(accuracy_score)\n",
    "\n",
    "    confusion_mat = confusion_matrix(y_test, predicted_label)\n",
    "    class_report = classification_report(y_test, predicted_label)\n",
    "\n",
    "    macro_precision = (metrics.precision_score(y_test, predicted_label, average='macro'))\n",
    "    macro_precision = (round(macro_precision,2))*100\n",
    "    prec_list.append(macro_precision)\n",
    "\n",
    "    macro_recall = (metrics.recall_score(y_test, predicted_label, average='macro'))\n",
    "    macro_recall = (round(macro_recall,2))*100\n",
    "    rec_list.append(macro_recall)\n",
    "    \n",
    "    macro_f1 = (metrics.f1_score(y_test, predicted_label, average='macro'))\n",
    "    macro_f1 = (round(macro_f1,2))*100\n",
    "    f1_list.append(macro_f1)\n",
    "\n",
    "    print(\"\\n\\nConfusion Matrix for k = {} is:\\n\".format(k))\n",
    "    print(confusion_mat)\n",
    "    print(\"\\nClassification Report for k = {} is:\\n\".format(k))\n",
    "    print(class_report)\n",
    "    print(\"Accuracy Score for k = {0} is: {1}%\".format(k,accuracy_score))\n",
    "    print(\"Macroaveraged Recall for k = {0} is: {1}%\".format(k,macro_recall))\n",
    "    print(\"Macroaveraged Precision for k = {0} is: {1}%\".format(k,macro_precision))\n",
    "    print(\"Macroaveraged F1-score for k = {0} is: {1}%\".format(k,macro_f1))"
   ]
  },
  {
   "cell_type": "code",
   "execution_count": 12,
   "metadata": {
    "colab": {
     "base_uri": "https://localhost:8080/",
     "height": 1000
    },
    "id": "bpkGT_vUKNit",
    "outputId": "f3829be5-6d11-4c3a-d190-3e3eaa03b4fd"
   },
   "outputs": [
    {
     "name": "stdout",
     "output_type": "stream",
     "text": [
      "\n",
      "\n",
      "Confusion Matrix for k = 1 is:\n",
      "\n",
      "[[90  0]\n",
      " [45  0]]\n",
      "\n",
      "Classification Report for k = 1 is:\n",
      "\n",
      "              precision    recall  f1-score   support\n",
      "\n",
      "     negatif       0.67      1.00      0.80        90\n",
      "     positif       0.00      0.00      0.00        45\n",
      "\n",
      "    accuracy                           0.67       135\n",
      "   macro avg       0.33      0.50      0.40       135\n",
      "weighted avg       0.44      0.67      0.53       135\n",
      "\n",
      "Accuracy Score for k = 1 is: 67.0%\n",
      "Macroaveraged Recall for k = 1 is: 50.0%\n",
      "Macroaveraged Precision for k = 1 is: 33.0%\n",
      "Macroaveraged F1-score for k = 1 is: 40.0%\n",
      "\n",
      "\n",
      "Confusion Matrix for k = 3 is:\n",
      "\n",
      "[[ 0 90]\n",
      " [ 0 45]]\n",
      "\n",
      "Classification Report for k = 3 is:\n",
      "\n",
      "              precision    recall  f1-score   support\n",
      "\n",
      "     negatif       0.00      0.00      0.00        90\n",
      "     positif       0.33      1.00      0.50        45\n",
      "\n",
      "    accuracy                           0.33       135\n",
      "   macro avg       0.17      0.50      0.25       135\n",
      "weighted avg       0.11      0.33      0.17       135\n",
      "\n",
      "Accuracy Score for k = 3 is: 33.0%\n",
      "Macroaveraged Recall for k = 3 is: 50.0%\n",
      "Macroaveraged Precision for k = 3 is: 17.0%\n",
      "Macroaveraged F1-score for k = 3 is: 25.0%\n",
      "\n",
      "\n",
      "Confusion Matrix for k = 5 is:\n",
      "\n",
      "[[90  0]\n",
      " [45  0]]\n",
      "\n",
      "Classification Report for k = 5 is:\n",
      "\n",
      "              precision    recall  f1-score   support\n",
      "\n",
      "     negatif       0.67      1.00      0.80        90\n",
      "     positif       0.00      0.00      0.00        45\n",
      "\n",
      "    accuracy                           0.67       135\n",
      "   macro avg       0.33      0.50      0.40       135\n",
      "weighted avg       0.44      0.67      0.53       135\n",
      "\n",
      "Accuracy Score for k = 5 is: 67.0%\n",
      "Macroaveraged Recall for k = 5 is: 50.0%\n",
      "Macroaveraged Precision for k = 5 is: 33.0%\n",
      "Macroaveraged F1-score for k = 5 is: 40.0%\n",
      "\n",
      "\n",
      "Confusion Matrix for k = 7 is:\n",
      "\n",
      "[[ 0 90]\n",
      " [ 0 45]]\n",
      "\n",
      "Classification Report for k = 7 is:\n",
      "\n",
      "              precision    recall  f1-score   support\n",
      "\n",
      "     negatif       0.00      0.00      0.00        90\n",
      "     positif       0.33      1.00      0.50        45\n",
      "\n",
      "    accuracy                           0.33       135\n",
      "   macro avg       0.17      0.50      0.25       135\n",
      "weighted avg       0.11      0.33      0.17       135\n",
      "\n",
      "Accuracy Score for k = 7 is: 33.0%\n",
      "Macroaveraged Recall for k = 7 is: 50.0%\n",
      "Macroaveraged Precision for k = 7 is: 17.0%\n",
      "Macroaveraged F1-score for k = 7 is: 25.0%\n",
      "\n",
      "\n",
      "Confusion Matrix for k = 10 is:\n",
      "\n",
      "[[90  0]\n",
      " [45  0]]\n",
      "\n",
      "Classification Report for k = 10 is:\n",
      "\n",
      "              precision    recall  f1-score   support\n",
      "\n",
      "     negatif       0.67      1.00      0.80        90\n",
      "     positif       0.00      0.00      0.00        45\n",
      "\n",
      "    accuracy                           0.67       135\n",
      "   macro avg       0.33      0.50      0.40       135\n",
      "weighted avg       0.44      0.67      0.53       135\n",
      "\n",
      "Accuracy Score for k = 10 is: 67.0%\n",
      "Macroaveraged Recall for k = 10 is: 50.0%\n",
      "Macroaveraged Precision for k = 10 is: 33.0%\n",
      "Macroaveraged F1-score for k = 10 is: 40.0%\n",
      "\n",
      "\n",
      "Confusion Matrix for k = 13 is:\n",
      "\n",
      "[[90  0]\n",
      " [45  0]]\n",
      "\n",
      "Classification Report for k = 13 is:\n",
      "\n",
      "              precision    recall  f1-score   support\n",
      "\n",
      "     negatif       0.67      1.00      0.80        90\n",
      "     positif       0.00      0.00      0.00        45\n",
      "\n",
      "    accuracy                           0.67       135\n",
      "   macro avg       0.33      0.50      0.40       135\n",
      "weighted avg       0.44      0.67      0.53       135\n",
      "\n",
      "Accuracy Score for k = 13 is: 67.0%\n",
      "Macroaveraged Recall for k = 13 is: 50.0%\n",
      "Macroaveraged Precision for k = 13 is: 33.0%\n",
      "Macroaveraged F1-score for k = 13 is: 40.0%\n",
      "\n",
      "\n",
      "Confusion Matrix for k = 15 is:\n",
      "\n",
      "[[90  0]\n",
      " [45  0]]\n",
      "\n",
      "Classification Report for k = 15 is:\n",
      "\n",
      "              precision    recall  f1-score   support\n",
      "\n",
      "     negatif       0.67      1.00      0.80        90\n",
      "     positif       0.00      0.00      0.00        45\n",
      "\n",
      "    accuracy                           0.67       135\n",
      "   macro avg       0.33      0.50      0.40       135\n",
      "weighted avg       0.44      0.67      0.53       135\n",
      "\n",
      "Accuracy Score for k = 15 is: 67.0%\n",
      "Macroaveraged Recall for k = 15 is: 50.0%\n",
      "Macroaveraged Precision for k = 15 is: 33.0%\n",
      "Macroaveraged F1-score for k = 15 is: 40.0%\n",
      "\n",
      "\n",
      "Confusion Matrix for k = 17 is:\n",
      "\n",
      "[[90  0]\n",
      " [45  0]]\n",
      "\n",
      "Classification Report for k = 17 is:\n",
      "\n",
      "              precision    recall  f1-score   support\n",
      "\n",
      "     negatif       0.67      1.00      0.80        90\n",
      "     positif       0.00      0.00      0.00        45\n",
      "\n",
      "    accuracy                           0.67       135\n",
      "   macro avg       0.33      0.50      0.40       135\n",
      "weighted avg       0.44      0.67      0.53       135\n",
      "\n",
      "Accuracy Score for k = 17 is: 67.0%\n",
      "Macroaveraged Recall for k = 17 is: 50.0%\n",
      "Macroaveraged Precision for k = 17 is: 33.0%\n",
      "Macroaveraged F1-score for k = 17 is: 40.0%\n",
      "\n",
      "\n",
      "Confusion Matrix for k = 20 is:\n",
      "\n",
      "[[90  0]\n",
      " [45  0]]\n",
      "\n",
      "Classification Report for k = 20 is:\n",
      "\n",
      "              precision    recall  f1-score   support\n",
      "\n",
      "     negatif       0.67      1.00      0.80        90\n",
      "     positif       0.00      0.00      0.00        45\n",
      "\n",
      "    accuracy                           0.67       135\n",
      "   macro avg       0.33      0.50      0.40       135\n",
      "weighted avg       0.44      0.67      0.53       135\n",
      "\n",
      "Accuracy Score for k = 20 is: 67.0%\n",
      "Macroaveraged Recall for k = 20 is: 50.0%\n",
      "Macroaveraged Precision for k = 20 is: 33.0%\n",
      "Macroaveraged F1-score for k = 20 is: 40.0%\n"
     ]
    }
   ],
   "source": [
    "classifying(train_matrix,test_matrix)"
   ]
  },
  {
   "cell_type": "markdown",
   "metadata": {
    "id": "x1lS64e6dyYY"
   },
   "source": [
    "# **Plotting**"
   ]
  },
  {
   "cell_type": "code",
   "execution_count": 13,
   "metadata": {
    "colab": {
     "base_uri": "https://localhost:8080/",
     "height": 534
    },
    "id": "AquYXBtx6JIZ",
    "outputId": "705c6e1a-6466-4b52-e41c-04aff132fba4"
   },
   "outputs": [
    {
     "data": {
      "text/plain": [
       "<function matplotlib.pyplot.show(close=None, block=None)>"
      ]
     },
     "execution_count": 13,
     "metadata": {},
     "output_type": "execute_result"
    },
    {
     "data": {
      "image/png": "[encoded data removed]",
      "text/plain": [
       "<Figure size 864x576 with 4 Axes>"
      ]
     },
     "metadata": {
      "needs_background": "light"
     },
     "output_type": "display_data"
    }
   ],
   "source": [
    "k_ls = [1,3,5,7,10,13,15,17,20] \n",
    "\n",
    "fig = plt.figure(figsize=(12,8))\n",
    "\n",
    "plt.subplot(2,2,1)\n",
    "plt.plot(k_ls,acc_list)\n",
    "plt.title(\"Accuracy as KNN increase\",fontsize='x-large')\n",
    "plt.xlabel(\"k Nearest Neighbors\",fontsize='large')\n",
    "plt.ylabel(\"Accuracy\",fontsize='large')\n",
    "\n",
    "plt.subplot(2,2,2)\n",
    "plt.plot(k_ls,rec_list)\n",
    "plt.title(\"Recall as KNN increase\",fontsize='x-large')\n",
    "plt.xlabel(\"k Nearest Neighbors\",fontsize='large')\n",
    "plt.ylabel(\"Recall\",fontsize='large')\n",
    "\n",
    "plt.subplot(2,2,3)\n",
    "plt.plot(k_ls,prec_list)\n",
    "plt.title(\"Precision as KNN increase\",fontsize='x-large')\n",
    "plt.xlabel(\"k Nearest Neighbors\",fontsize='large')\n",
    "plt.ylabel(\"Precision\",fontsize='large')\n",
    "\n",
    "plt.subplot(2,2,4)\n",
    "plt.plot(k_ls,f1_list)\n",
    "plt.title(\"F1 as KNN increase\",fontsize='x-large')\n",
    "plt.xlabel(\"k Nearest Neighbors\",fontsize='large')\n",
    "plt.ylabel(\"F1\",fontsize='large')\n",
    "\n",
    "fig.subplots_adjust(hspace=.5)\n",
    "\n",
    "plt.show"
   ]
  },
  {
   "cell_type": "code",
   "execution_count": null,
   "metadata": {},
   "outputs": [],
   "source": []
  }
 ],
 "metadata": {
  "colab": {
   "collapsed_sections": [],
   "name": "21100286_A1_P1P2.ipynb",
   "provenance": []
  },
  "kernelspec": {
   "display_name": "Python 3 (ipykernel)",
   "language": "python",
   "name": "python3"
  },
  "language_info": {
   "codemirror_mode": {
    "name": "ipython",
    "version": 3
   },
   "file_extension": ".py",
   "mimetype": "text/x-python",
   "name": "python",
   "nbconvert_exporter": "python",
   "pygments_lexer": "ipython3",
   "version": "3.9.7"
  }
 },
 "nbformat": 4,
 "nbformat_minor": 1
}
